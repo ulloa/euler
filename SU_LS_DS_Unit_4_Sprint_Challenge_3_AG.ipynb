{
  "cells": [
    {
      "cell_type": "markdown",
      "metadata": {
        "id": "view-in-github",
        "colab_type": "text"
      },
      "source": [
        "<a href=\"https://colab.research.google.com/github/ulloa/euler/blob/master/SU_LS_DS_Unit_4_Sprint_Challenge_3_AG.ipynb\" target=\"_parent\"><img src=\"https://colab.research.google.com/assets/colab-badge.svg\" alt=\"Open In Colab\"/></a>"
      ]
    },
    {
      "cell_type": "markdown",
      "metadata": {
        "id": "xGlc626xXg-j"
      },
      "source": [
        "\n",
        "## Autograded Notebook (Canvas & CodeGrade)\n",
        "\n",
        "This notebook will be automatically graded. It is designed to test your answers and award points for the correct answers. Following the instructions for each Task carefully.\n",
        "Instructions\n",
        "\n",
        "- **Download** this notebook as you would any other ipynb file \n",
        "- **Upload** to Google Colab or work locally (if you have that set-up)\n",
        "- **Delete** `raise NotImplementedError()`\n",
        "\n",
        "- **Write** your code in the `# YOUR CODE HERE` space\n",
        "\n",
        "\n",
        "- **Execute** the Test cells that contain assert statements - these help you check your work (others contain hidden tests that will be checked when you submit through Canvas)\n",
        "\n",
        "- **Save** your notebook when you are finished\n",
        "- **Download** as a ipynb file (if working in Colab)\n",
        "- **Upload** your complete notebook to Canvas (there will be additional instructions in Slack and/or Canvas)\n",
        "\n"
      ]
    },
    {
      "cell_type": "markdown",
      "metadata": {
        "id": "UlSRHpdaXg-k"
      },
      "source": [
        "# Major Neural Network Architectures Challenge\n",
        "## *Data Science Unit 4 Sprint 3 Challenge*\n",
        "\n",
        "In this sprint challenge, you'll explore some of the cutting edge of Deep Learning. This week we studied several famous neural network architectures: \n",
        "recurrent neural networks (RNNs), long short-term memory (LSTMs), convolutional neural networks (CNNs), and Autoencoders. In this sprint challenge, you will revisit these models. Remember, we are testing your knowledge of these architectures not your ability to fit a model with high accuracy. \n",
        "\n",
        "__*Caution:*__  these approaches can be pretty heavy computationally. All problems were designed so that you should be able to achieve results within at most 5-10 minutes of runtime locally, on AWS SageMaker, on Colab or on a comparable environment. If something is running longer, double check your approach!\n",
        "\n",
        "__*GridSearch:*__ CodeGrade will likely break if it is asked to run a gridsearch for a deep learning model (CodeGrade instances run on a single processor). So while you may choose to run a gridsearch locally to find the optimum hyper-parameter values for your model, please delete (or comment out) the gridsearch code and simply instantiate a model with the optimum parameter values to get the performance that you want out of your model prior to submission. \n",
        "\n",
        "\n",
        "## Challenge Objectives\n",
        "*You should be able to:*\n",
        "* <a href=\"#p1\">Part 1</a>: Train a LSTM classification model\n",
        "* <a href=\"#p2\">Part 2</a>: Utilize a pre-trained CNN for object detection\n",
        "* <a href=\"#p3\">Part 3</a>: Describe a use case for an autoencoder\n",
        "* <a href=\"#p4\">Part 4</a>: Describe yourself as a Data Science and elucidate your vision of AI\n",
        "\n",
        "____\n",
        "\n",
        "# (CodeGrade) Before you submit your notebook you must first\n",
        "\n",
        "1) Restart your notebook's Kernel\n",
        "\n",
        "2) Run all cells sequentially, from top to bottom, so that cell numbers are sequential numbers (i.e. 1,2,3,4,5...)\n",
        "- Easiest way to do this is to click on the **Cell** tab at the top of your notebook and select **Run All** from the drop down menu. \n",
        "\n",
        "3) If you have gridsearch code, now is when you either delete it or comment out that code so CodeGrade doesn't run it and crash. \n",
        "\n",
        "4) Read the directions in **Part 2** of this notebook for specific instructions on how to prep that section for CodeGrade.\n",
        "\n",
        "____"
      ]
    },
    {
      "cell_type": "markdown",
      "metadata": {
        "id": "-5UwGRnJOmD4"
      },
      "source": [
        "<a id=\"p1\"></a>\n",
        "## Part 1 - LSTMs\n",
        "\n",
        "Use a LSTM to fit a multi-class classification model on Reuters news articles to distinguish topics of articles. The data is already encoded properly for use in a LSTM model. \n",
        "\n",
        "Your Tasks: \n",
        "- Use Keras to fit a predictive model, classifying news articles into topics. \n",
        "- Name your model as `model`\n",
        "- Use a `single hidden layer`\n",
        "- Use `sparse_categorical_crossentropy` as your loss function\n",
        "- Use `accuracy` as your metric\n",
        "- Report your overall score and accuracy\n",
        "- Due to resource concerns on CodeGrade, `set your model's epochs=1`\n",
        "\n",
        "For reference, the LSTM code we used in class will be useful. \n",
        "\n",
        "__*Note:*__  Focus on getting a running model, not on maxing accuracy with extreme data size or epoch numbers. Only revisit and push accuracy if you get everything else done! "
      ]
    },
    {
      "cell_type": "code",
      "execution_count": null,
      "metadata": {
        "id": "DS-9ksWjoJit"
      },
      "outputs": [],
      "source": [
        "# Import data (don't alter the code in this cell)\n",
        "from tensorflow.keras.datasets import reuters\n",
        "\n",
        "# Suppress some warnings from deprecated reuters.load_data\n",
        "import warnings\n",
        "warnings.filterwarnings('ignore')\n",
        "\n",
        "# Load data\n",
        "(X_train, y_train), (X_test, y_test) = reuters.load_data(num_words=None,\n",
        "                                                         skip_top=0,\n",
        "                                                         maxlen=None,\n",
        "                                                         test_split=0.2,\n",
        "                                                         seed=723812,\n",
        "                                                         start_char=1,\n",
        "                                                         oov_char=2,\n",
        "                                                         index_from=3)\n",
        "\n",
        "# Due to limited computational resources on CodeGrade, take the following subsample \n",
        "train_size = 1000\n",
        "X_train = X_train[:train_size]\n",
        "y_train = y_train[:train_size]"
      ]
    },
    {
      "cell_type": "code",
      "execution_count": null,
      "metadata": {
        "colab": {
          "base_uri": "https://localhost:8080/"
        },
        "id": "fLKqFh8DovaN",
        "outputId": "cd44e5f1-9c8a-4ea1-b206-4433f1faa6f0"
      },
      "outputs": [
        {
          "output_type": "stream",
          "name": "stdout",
          "text": [
            "Iran is encoded as 779 in the data\n",
            "London is encoded as 544 in the data\n",
            "Words are encoded as numbers in our dataset.\n"
          ]
        }
      ],
      "source": [
        "# Demo of encoding\n",
        "word_index = reuters.get_word_index(path=\"reuters_word_index.json\")\n",
        "\n",
        "print(f\"Iran is encoded as {word_index['iran']} in the data\")\n",
        "print(f\"London is encoded as {word_index['london']} in the data\")\n",
        "print(\"Words are encoded as numbers in our dataset.\")"
      ]
    },
    {
      "cell_type": "code",
      "execution_count": null,
      "metadata": {
        "id": "uqKmJVIHXg-m"
      },
      "outputs": [],
      "source": [
        "# Imports (don't alter this code)\n",
        "from tensorflow.keras.preprocessing import sequence\n",
        "from tensorflow.keras.models import Sequential\n",
        "from tensorflow.keras.layers import Dense, Embedding, LSTM\n",
        "\n",
        "# DO NOT CHANGE THESE VALUES \n",
        "# Keras docs say that the + 1 is needed: https://keras.io/api/layers/core_layers/embedding/\n",
        "MAX_FEATURES = len(word_index.values()) + 1\n",
        "\n",
        "# maxlen is the length of each sequence (i.e. document length)\n",
        "MAXLEN = 200"
      ]
    },
    {
      "cell_type": "code",
      "execution_count": null,
      "metadata": {
        "deletable": false,
        "nbgrader": {
          "cell_type": "code",
          "checksum": "36031ab4b52ab8412c65a71e101baaf5",
          "grade": false,
          "grade_id": "cell-471d7f5819bebff6",
          "locked": false,
          "schema_version": 3,
          "solution": true,
          "task": false
        },
        "id": "IStSuEh8Xg-n"
      },
      "outputs": [],
      "source": [
        "# Pre-process your data by creating sequences \n",
        "# Save your transformed data to the same variable name:\n",
        "# example: X_train = some_transformation(X_train)\n",
        "\n",
        "# YOUR CODE HERE\n",
        "\n",
        "#[word_index.loc[i] for i in X_train[0]]\n",
        "\n",
        "X_train = sequence.pad_sequences(X_train, MAXLEN)\n",
        "X_test = sequence.pad_sequences(X_test, MAXLEN)"
      ]
    },
    {
      "cell_type": "code",
      "execution_count": null,
      "metadata": {
        "deletable": false,
        "editable": false,
        "nbgrader": {
          "cell_type": "code",
          "checksum": "cef4a5ae6ec56bee0d3121c7d8d37f3e",
          "grade": true,
          "grade_id": "cell-b46c98c26266363a",
          "locked": true,
          "points": 1,
          "schema_version": 3,
          "solution": false,
          "task": false
        },
        "id": "4HS6u_e3Xg-n"
      },
      "outputs": [],
      "source": [
        "# Visible tests\n",
        "assert X_train.shape[1] == MAXLEN, \"Your train input sequences are the wrong length. Did you use the sequence import?\"\n",
        "assert X_test.shape[1] == MAXLEN, \"Your test input sequences are the wrong length. Did you use the sequence import?\""
      ]
    },
    {
      "cell_type": "markdown",
      "metadata": {
        "id": "1OcAOx4dXg-n"
      },
      "source": [
        "### Create your model\n",
        "\n",
        "Make sure to follow these instructions (also listed above):\n",
        "- Name your model as `model`\n",
        "- Use a `single hidden layer`\n",
        "- Use `sparse_categorical_crossentropy` as your loss function\n",
        "- Use `accuracy` as your metric\n",
        "\n",
        "**Additional considerations**\n",
        "\n",
        "The number of nodes in your output layer should be equal to the number of **unique** values in the sequences you are training and testing on. For this text, that value is equal to 46.\n",
        "\n",
        "- Set the number of nodes in your output layer equal to 46"
      ]
    },
    {
      "cell_type": "code",
      "execution_count": null,
      "metadata": {
        "deletable": false,
        "nbgrader": {
          "cell_type": "code",
          "checksum": "cc18fbac87183e4e19e0342541d5684b",
          "grade": false,
          "grade_id": "cell-5e7ea9089f827793",
          "locked": false,
          "schema_version": 3,
          "solution": true,
          "task": false
        },
        "id": "UcFSjOzBXg-n"
      },
      "outputs": [],
      "source": [
        "# Build and complie your model here\n",
        "from tensorflow.keras.models import Model\n",
        "from tensorflow.keras.layers import Input\n",
        "from tensorflow.keras.optimizers import Adam\n",
        "\n",
        "opt = Adam(learning_rate=0.001)\n",
        "\n",
        "input = Input((200))\n",
        "\n",
        "embedding = Embedding(MAX_FEATURES, 46)(input)\n",
        "h1 = LSTM(\n",
        "          128,\n",
        "          return_sequences=False\n",
        "          )(embedding)\n",
        "\n",
        "output = Dense(46, activation='softmax')(h1)\n",
        "\n",
        "model = Model(inputs=input, outputs=output)\n",
        "model.compile(loss='sparse_categorical_crossentropy', optimizer=opt, metrics=['accuracy'])"
      ]
    },
    {
      "cell_type": "code",
      "execution_count": null,
      "metadata": {
        "deletable": false,
        "editable": false,
        "nbgrader": {
          "cell_type": "code",
          "checksum": "ff2e025e7744c0524ecebcb854ae632d",
          "grade": true,
          "grade_id": "cell-54f4676c642d2c94",
          "locked": true,
          "points": 1,
          "schema_version": 3,
          "solution": false,
          "task": false
        },
        "id": "bHzrxDZ4Xg-n"
      },
      "outputs": [],
      "source": [
        "# Visible Test\n",
        "assert model.get_config()[\"layers\"][1][\"class_name\"] == \"Embedding\", \"Layer 1 should be an Embedding layer.\""
      ]
    },
    {
      "cell_type": "code",
      "execution_count": null,
      "metadata": {
        "deletable": false,
        "editable": false,
        "nbgrader": {
          "cell_type": "code",
          "checksum": "cc9bb4e19f4d22eb6a243d76024fb637",
          "grade": true,
          "grade_id": "cell-974465c65fe51083",
          "locked": true,
          "points": 1,
          "schema_version": 3,
          "solution": false,
          "task": false
        },
        "id": "ktjUkNPCXg-n"
      },
      "outputs": [],
      "source": [
        "# Hidden Test"
      ]
    },
    {
      "cell_type": "markdown",
      "metadata": {
        "id": "HTnMRRUiXg-n"
      },
      "source": [
        "### Fit your model\n",
        "\n",
        "Now, fit the model that you built and compiled in the previous cells. Remember to set your `epochs=1`! "
      ]
    },
    {
      "cell_type": "code",
      "execution_count": null,
      "metadata": {
        "deletable": false,
        "id": "_QVSlFEAqWJM",
        "nbgrader": {
          "cell_type": "code",
          "checksum": "214ed02cdf6fe3f25483d81c2f4dd09c",
          "grade": false,
          "grade_id": "cell-10c20c87933d059c",
          "locked": false,
          "schema_version": 3,
          "solution": true,
          "task": false
        },
        "colab": {
          "base_uri": "https://localhost:8080/"
        },
        "outputId": "290846fe-dcac-4125-b657-6a45dbb8a888"
      },
      "outputs": [
        {
          "output_type": "stream",
          "name": "stdout",
          "text": [
            "32/32 [==============================] - 9s 126ms/step - loss: 2.9106 - accuracy: 0.3210 - val_loss: 2.4152 - val_accuracy: 0.3664\n"
          ]
        },
        {
          "output_type": "execute_result",
          "data": {
            "text/plain": [
              "<keras.callbacks.History at 0x7f5ae5c21f50>"
            ]
          },
          "metadata": {},
          "execution_count": 61
        }
      ],
      "source": [
        "# Fit your model here\n",
        "# REMEMBER to set epochs=1\n",
        "\n",
        "# YOUR CODE HERE\n",
        "model.fit(X_train, y_train,\n",
        "          epochs=1, \n",
        "          validation_data=(X_test,y_test))"
      ]
    },
    {
      "cell_type": "code",
      "execution_count": null,
      "metadata": {
        "deletable": false,
        "editable": false,
        "nbgrader": {
          "cell_type": "code",
          "checksum": "ca6a93fe03cb86e1d3ba3d38fc848102",
          "grade": true,
          "grade_id": "cell-277a7dc0b08b9a29",
          "locked": true,
          "points": 1,
          "schema_version": 3,
          "solution": false,
          "task": false
        },
        "id": "cV6HrozSXg-o"
      },
      "outputs": [],
      "source": [
        "# Visible Test \n",
        "n_epochs = len(model.history.history[\"loss\"])\n",
        "assert n_epochs == 1, \"Verify that you set epochs to 1.\""
      ]
    },
    {
      "cell_type": "markdown",
      "metadata": {
        "deletable": false,
        "editable": false,
        "nbgrader": {
          "cell_type": "markdown",
          "checksum": "5035264cce6916dab4735e61ab5a92a0",
          "grade": false,
          "grade_id": "cell-e46402041c52cd24",
          "locked": true,
          "points": 0,
          "schema_version": 3,
          "solution": false,
          "task": true
        },
        "nteract": {
          "transient": {
            "deleting": false
          }
        },
        "id": "IT6LPlzwXg-o"
      },
      "source": [
        "## Sequence Data Question\n",
        "#### *Describe the `pad_sequences` method used on the training dataset. What does it do? Why do you need it?*"
      ]
    },
    {
      "cell_type": "markdown",
      "metadata": {
        "deletable": false,
        "nbgrader": {
          "cell_type": "markdown",
          "checksum": "466921cbc36892fb12aa9a3f0c2424a3",
          "grade": true,
          "grade_id": "cell-92a7ebc76ad66f05",
          "locked": false,
          "points": 0,
          "schema_version": 3,
          "solution": true,
          "task": false
        },
        "id": "AHkPUM-YXg-o"
      },
      "source": [
        "Pad sequences makes all the sequences the same length. It will padd sequences with a 0 value in the front so that all the sequences can have the same length. LSTM requires all inputs to be the same shape."
      ]
    },
    {
      "cell_type": "markdown",
      "metadata": {
        "deletable": false,
        "editable": false,
        "nbgrader": {
          "cell_type": "markdown",
          "checksum": "1162a5c137e05e13d9c1275bf89709c2",
          "grade": false,
          "grade_id": "cell-a7a697b125edb2b7",
          "locked": true,
          "points": 0,
          "schema_version": 3,
          "solution": false,
          "task": true
        },
        "nteract": {
          "transient": {
            "deleting": false
          }
        },
        "id": "9ybkktSOXg-o"
      },
      "source": [
        "## RNNs versus LSTMs\n",
        "#### *What are the primary motivations behind using Long-ShortTerm Memory Cell unit over traditional Recurrent Neural Networks?*"
      ]
    },
    {
      "cell_type": "markdown",
      "metadata": {
        "deletable": false,
        "nbgrader": {
          "cell_type": "markdown",
          "checksum": "e88cf9a290290a182ca8381c5055b218",
          "grade": true,
          "grade_id": "cell-bfe45496d78d39bb",
          "locked": false,
          "points": 0,
          "schema_version": 3,
          "solution": true,
          "task": false
        },
        "id": "3K42OxglXg-o"
      },
      "source": [
        "LSTMs are better."
      ]
    },
    {
      "cell_type": "markdown",
      "metadata": {
        "deletable": false,
        "editable": false,
        "nbgrader": {
          "cell_type": "markdown",
          "checksum": "72cdfd02468a598b328fef9d0fb2c449",
          "grade": false,
          "grade_id": "cell-ca70eabc807f8f52",
          "locked": true,
          "points": 0,
          "schema_version": 3,
          "solution": false,
          "task": true
        },
        "nteract": {
          "transient": {
            "deleting": false
          }
        },
        "id": "dDAprYoaXg-o"
      },
      "source": [
        "## RNN / LSTM Use Cases\n",
        "#### *Name and Describe 3 Use Cases of LSTMs or RNNs and why they are suited to that use case*"
      ]
    },
    {
      "cell_type": "markdown",
      "metadata": {
        "deletable": false,
        "nbgrader": {
          "cell_type": "markdown",
          "checksum": "91b3a655469df8a2d64e7c7c0c0aed02",
          "grade": true,
          "grade_id": "cell-eeaef2336d124b88",
          "locked": false,
          "points": 0,
          "schema_version": 3,
          "solution": true,
          "task": false
        },
        "id": "4SJBxPUFXg-o"
      },
      "source": [
        "LSTM and RNNs are better for sequential data. This can include time-series data or prediction of the next value in a sequence. This can include a word predictor, like in natrual language processing."
      ]
    },
    {
      "cell_type": "markdown",
      "metadata": {
        "id": "yz0LCZd_O4IG"
      },
      "source": [
        "<a id=\"p2\"></a>\n",
        "## Part 2- CNNs\n",
        "\n",
        "### Find the Frog\n",
        "\n",
        "Time to play \"find the frog!\" Use Keras and [ResNet50v2](https://www.tensorflow.org/api_docs/python/tf/keras/applications/resnet_v2) (pre-trained) to detect which of the images with the `frog_images` subdirectory has a frog in it.\n",
        "\n",
        "<img align=\"left\" src=\"https://d3i6fh83elv35t.cloudfront.net/newshour/app/uploads/2017/03/GettyImages-654745934-1024x687.jpg\" width=400>"
      ]
    },
    {
      "cell_type": "markdown",
      "metadata": {
        "id": "i73VUPMXXg-o"
      },
      "source": [
        "The skimage function below will help you read in all the frog images into memory at once. You should use the preprocessing functions that come with ResnetV2, and you should also resize the images using scikit-image.\n",
        "\n",
        "### Reading in the images\n",
        "\n",
        "The code in the following cell will download the images to your notebook (either in your local Jupyter notebook or in Google colab)."
      ]
    },
    {
      "cell_type": "code",
      "execution_count": null,
      "metadata": {
        "id": "0zV2c3ixXg-o"
      },
      "outputs": [],
      "source": [
        "# Prep to import images (don't alter the code in this cell)\n",
        "import urllib.request\n",
        "\n",
        "# Text file of image URLs\n",
        "text_file = \"https://raw.githubusercontent.com/LambdaSchool/data-science-canvas-images/main/unit_4/sprint_challenge_files/frog_image_url.txt\"\n",
        "data = urllib.request.urlopen(text_file)\n",
        "\n",
        "# Create list of image URLs\n",
        "url_list = [] \n",
        "for line in data:\n",
        "    url_list.append(line.decode('utf-8'))"
      ]
    },
    {
      "cell_type": "code",
      "execution_count": null,
      "metadata": {
        "id": "whIqEWR236Af",
        "colab": {
          "base_uri": "https://localhost:8080/"
        },
        "outputId": "daca4828-7dfc-4b99-a95f-b60684dfb5bf"
      },
      "outputs": [
        {
          "output_type": "stream",
          "name": "stdout",
          "text": [
            "<class 'numpy.ndarray'>\n",
            "\n",
            "Each of the Images is a Different Size\n",
            "(2137, 1710, 3)\n",
            "(3810, 2856, 3)\n"
          ]
        }
      ],
      "source": [
        "# Import images (don't alter the code in this cell)\n",
        "\n",
        "from skimage.io import imread\n",
        "from skimage.transform import resize \n",
        "\n",
        "# instantiate list to hold images\n",
        "image_list = []\n",
        "\n",
        "### UNCOMMENT THE FOLLOWING CODE TO LOAD YOUR IMAGES\n",
        "\n",
        "#loop through URLs and load each image\n",
        "for url in url_list:\n",
        "    image_list.append(imread(url))\n",
        "\n",
        "## UNCOMMENT THE FOLLOWING CODE TO VIEW AN EXAMPLE IMAGE SIZE\n",
        "#What is an \"image\"?\n",
        "print(type(image_list[0]), end=\"\\n\\n\")\n",
        "\n",
        "print(\"Each of the Images is a Different Size\")\n",
        "print(image_list[0].shape)\n",
        "print(image_list[1].shape)"
      ]
    },
    {
      "cell_type": "markdown",
      "metadata": {
        "id": "si5YfNqS50QU"
      },
      "source": [
        "### Run ResNet50v2\n",
        "\n",
        "Your goal is to validly run ResNet50v2 on the input images - don't worry about tuning or improving the model. You can print out or view the predictions in any way you see fit. In order to receive credit, you need to have made predictions at some point in the following cells.\n",
        "\n",
        "*Hint* - ResNet 50v2 doesn't just return \"frog\". The three labels it has for frogs are: `bullfrog, tree frog, tailed frog`\n",
        "\n",
        "**Autograded tasks**\n",
        "\n",
        "* Instantiate your ResNet 50v2 and save to a variable named `resnet_model`\n",
        "\n",
        "**Other tasks**\n",
        "* Re-size your images\n",
        "* Use `resnet_model` to predict if each image contains a frog\n",
        "* Decode your predictions\n",
        "* Hint: the lesson on CNNs will have some helpful code\n",
        "\n",
        "**Stretch goals***\n",
        "* Check for other things such as fish\n",
        "* Print out the image with its predicted label\n",
        "* Wrap everything nicely in well documented functions\n",
        "\n",
        "## Important note!\n",
        "\n",
        "To increase the chances that your notebook will run in CodeGrade, when you **submit** your notebook:\n",
        "\n",
        "* comment out the code where you load the images\n",
        "* comment out the code where you make the predictions\n",
        "* comment out any plots or image displays you create\n",
        "\n",
        "**MAKE SURE YOUR NOTEBOOK RUNS COMPLETELY BEFORE YOU SUBMIT!**"
      ]
    },
    {
      "cell_type": "code",
      "execution_count": null,
      "metadata": {
        "id": "FaT07ddW3nHz"
      },
      "outputs": [],
      "source": [
        "# Imports\n",
        "import numpy as np\n",
        "import matplotlib.pyplot as plt\n",
        "\n",
        "from tensorflow.keras.applications.resnet_v2 import ResNet50V2 # <-- pre-trained model \n",
        "from tensorflow.keras.preprocessing import image\n",
        "from tensorflow.keras.applications.resnet_v2 import preprocess_input, decode_predictions"
      ]
    },
    {
      "cell_type": "code",
      "execution_count": null,
      "metadata": {
        "deletable": false,
        "nbgrader": {
          "cell_type": "code",
          "checksum": "00c7d152b14a85442baaad9b9fcbbe15",
          "grade": false,
          "grade_id": "cell-2715a95f2bcdf3f8",
          "locked": false,
          "schema_version": 3,
          "solution": true,
          "task": false
        },
        "id": "sHkzJvCEXg-p",
        "colab": {
          "base_uri": "https://localhost:8080/"
        },
        "outputId": "1520aa6c-20f7-4804-ba5b-4e7ec20723e0"
      },
      "outputs": [
        {
          "output_type": "execute_result",
          "data": {
            "text/plain": [
              "array([[1.22167170e-03, 6.72572933e-04, 5.70033502e-04, 2.88548501e-04,\n",
              "        1.37365714e-03, 5.20381378e-04, 1.17044675e-03, 3.49448295e-04,\n",
              "        1.80376257e-04, 1.08926720e-03, 1.24868180e-03, 1.26136863e-03,\n",
              "        6.52007991e-04, 9.45631007e-04, 5.30768186e-04, 1.29994482e-03,\n",
              "        5.97832433e-04, 8.44529190e-04, 1.01984059e-03, 5.27217111e-04,\n",
              "        5.96314087e-04, 9.71343718e-04, 3.14805121e-03, 5.91533084e-04,\n",
              "        1.47766818e-03, 5.06111304e-04, 3.58074671e-04, 5.50764787e-04,\n",
              "        7.50058156e-04, 6.54060685e-04, 6.90779532e-04, 1.67005183e-03,\n",
              "        2.85402522e-04, 1.05654901e-04, 1.78418332e-03, 1.43904312e-04,\n",
              "        2.56170199e-04, 1.17684714e-04, 2.07463093e-03, 6.31845905e-04,\n",
              "        3.11559706e-04, 1.36168717e-04, 1.07996585e-03, 2.47303513e-04,\n",
              "        2.20095593e-04, 3.30040464e-04, 1.00149622e-03, 2.31832659e-04,\n",
              "        4.51069267e-04, 1.95091096e-04, 8.34883831e-04, 1.93575179e-04,\n",
              "        2.51567137e-04, 6.76703930e-04, 4.66993166e-04, 8.65047914e-04,\n",
              "        2.18098285e-04, 1.45317754e-04, 4.25617356e-04, 1.53102297e-02,\n",
              "        7.49336439e-04, 2.11625724e-04, 4.69069375e-04, 3.29005462e-03,\n",
              "        1.46104291e-03, 3.80189565e-04, 6.24563894e-04, 2.79288826e-04,\n",
              "        1.22296158e-03, 1.47652370e-03, 5.50417986e-04, 1.89181033e-03,\n",
              "        1.82912394e-04, 2.88170576e-03, 2.15427805e-04, 4.94114822e-04,\n",
              "        1.88211794e-04, 8.27143318e-04, 1.43689231e-03, 2.36683292e-03,\n",
              "        8.24499060e-04, 4.09003551e-04, 4.48470353e-04, 2.58777291e-04,\n",
              "        6.25235320e-04, 5.28187898e-04, 4.08478285e-04, 1.43289712e-04,\n",
              "        8.64995178e-04, 1.67130784e-03, 1.12001889e-03, 8.43992573e-04,\n",
              "        3.28102661e-03, 1.89886615e-03, 4.21990035e-03, 9.22682520e-05,\n",
              "        2.13277712e-03, 1.76905436e-04, 2.24720920e-04, 5.32755395e-04,\n",
              "        2.33812211e-03, 4.32299013e-04, 2.20594666e-04, 1.59190607e-03,\n",
              "        6.12462405e-04, 1.34164977e-04, 5.03446325e-04, 2.56891456e-03,\n",
              "        5.65722818e-04, 2.04709198e-04, 1.02709013e-03, 2.92641819e-02,\n",
              "        1.40920701e-03, 2.58424133e-03, 3.47277906e-04, 5.49924793e-04,\n",
              "        2.92415672e-04, 1.90615631e-03, 4.68868966e-05, 1.39741402e-04,\n",
              "        3.26265232e-04, 1.50991400e-04, 2.92956334e-04, 1.23213380e-04,\n",
              "        1.68808372e-04, 4.00671008e-04, 9.89878783e-04, 1.36583461e-03,\n",
              "        6.78387121e-04, 2.06060801e-03, 1.00424222e-03, 4.55195521e-04,\n",
              "        3.54817952e-03, 4.44680627e-04, 4.89621714e-04, 1.52445375e-03,\n",
              "        3.59979254e-04, 7.39739684e-04, 3.94898409e-04, 3.64533917e-04,\n",
              "        4.30594169e-04, 1.00072345e-03, 3.33377713e-04, 5.52272773e-04,\n",
              "        1.01885549e-03, 2.87636736e-04, 3.14241741e-04, 1.57234492e-04,\n",
              "        2.59560184e-04, 6.71911985e-04, 7.54408175e-05, 4.21595119e-04,\n",
              "        1.59919995e-03, 3.94853792e-04, 3.87755048e-04, 3.65756394e-04,\n",
              "        1.96242894e-04, 1.54647103e-04, 2.03869597e-04, 2.26694974e-04,\n",
              "        1.53219022e-04, 3.96942982e-04, 3.16263147e-04, 4.20357188e-04,\n",
              "        3.57093755e-04, 7.43596989e-04, 2.74693477e-04, 1.15460518e-03,\n",
              "        1.66502883e-04, 1.79786744e-04, 1.35518305e-04, 2.51326739e-04,\n",
              "        7.20943441e-04, 4.38527932e-04, 1.03829363e-04, 2.71220459e-04,\n",
              "        1.86642617e-04, 2.55182211e-04, 6.72220369e-04, 1.08352833e-04,\n",
              "        1.64493409e-04, 2.62027374e-04, 1.36734583e-04, 1.92664913e-04,\n",
              "        4.14846814e-04, 3.13469791e-04, 1.08162858e-04, 5.64802845e-04,\n",
              "        4.02147707e-04, 2.83108326e-04, 4.75646404e-04, 2.01647257e-04,\n",
              "        7.15935894e-05, 4.04854101e-04, 2.75317812e-04, 1.07682473e-03,\n",
              "        1.08302884e-04, 7.40700125e-05, 4.38985124e-04, 2.86961644e-04,\n",
              "        1.15206873e-04, 8.65246766e-05, 1.32937072e-04, 4.66506201e-04,\n",
              "        2.60949833e-04, 1.98365917e-04, 6.46129018e-04, 3.63372208e-04,\n",
              "        1.74468406e-03, 2.35164131e-04, 1.57413640e-04, 4.04411083e-04,\n",
              "        2.25007418e-04, 4.39647498e-04, 2.07781646e-04, 2.28998368e-04,\n",
              "        9.00458777e-04, 6.25779561e-04, 2.55536928e-04, 3.64805164e-04,\n",
              "        3.95666866e-04, 3.67175846e-04, 4.35724709e-04, 2.24695948e-04,\n",
              "        4.23044758e-03, 3.68097215e-04, 2.68381264e-04, 1.57948292e-04,\n",
              "        3.35367833e-04, 4.56501468e-04, 2.48065393e-04, 5.20819041e-04,\n",
              "        3.48073139e-04, 2.70180055e-04, 1.07551510e-04, 1.70186060e-04,\n",
              "        3.47966125e-04, 1.60444717e-04, 3.51559371e-04, 5.58883243e-04,\n",
              "        1.66875412e-04, 1.52587204e-03, 2.59540742e-04, 1.25266117e-04,\n",
              "        5.55030769e-04, 2.10395781e-04, 5.76309569e-04, 4.11155896e-04,\n",
              "        1.89183818e-04, 3.87387292e-04, 5.98034065e-04, 4.23087215e-04,\n",
              "        1.86495643e-04, 2.61844252e-04, 1.50540913e-03, 1.30910208e-04,\n",
              "        2.32384831e-04, 2.72533071e-04, 2.32625753e-04, 2.79105385e-04,\n",
              "        1.86127936e-03, 7.67723977e-05, 4.21899196e-04, 6.67825152e-05,\n",
              "        2.14182684e-04, 3.78833967e-04, 4.09381522e-04, 3.02635512e-04,\n",
              "        2.83113593e-04, 2.66718073e-03, 1.23378937e-03, 4.37897746e-04,\n",
              "        5.41259360e-04, 2.82577763e-04, 2.84025772e-03, 5.49706398e-04,\n",
              "        2.13350635e-03, 4.32787417e-03, 4.81147610e-04, 6.98085234e-04,\n",
              "        5.49835910e-04, 3.47964262e-04, 7.39662151e-04, 1.71322993e-03,\n",
              "        4.91081446e-04, 5.28879929e-04, 7.15468195e-04, 7.98980298e-04,\n",
              "        2.25398852e-03, 6.25413551e-04, 2.02395750e-04, 2.61672656e-03,\n",
              "        3.62758001e-04, 6.14801480e-04, 9.06841073e-04, 1.26280542e-03,\n",
              "        4.61922202e-04, 7.04087608e-04, 5.79254818e-04, 1.13129243e-03,\n",
              "        6.67320448e-04, 1.82366080e-03, 1.37916519e-04, 7.47303420e-04,\n",
              "        5.85312024e-04, 3.93310271e-04, 1.73870195e-03, 4.11630794e-03,\n",
              "        4.83026076e-03, 9.57266486e-04, 4.09131544e-03, 1.23855146e-03,\n",
              "        1.97076751e-03, 1.10780844e-03, 4.04588151e-04, 1.12223607e-02,\n",
              "        5.78973442e-04, 1.35685096e-03, 4.22830367e-03, 7.87839107e-03,\n",
              "        4.11114888e-04, 3.49586800e-04, 3.43697116e-04, 8.47709423e-04,\n",
              "        3.10542528e-03, 4.89287020e-04, 5.73023036e-03, 1.06285268e-03,\n",
              "        4.03691491e-04, 1.48692110e-04, 2.94560916e-04, 1.44365220e-03,\n",
              "        2.18920788e-04, 1.78333212e-04, 2.59383232e-04, 4.12487861e-04,\n",
              "        5.48145617e-04, 1.38049887e-03, 3.67864530e-04, 2.04409924e-04,\n",
              "        7.56135967e-04, 3.99611308e-04, 5.47859177e-04, 2.34438412e-04,\n",
              "        3.17768310e-04, 4.04393155e-04, 1.21651843e-04, 4.34178306e-04,\n",
              "        3.34831566e-04, 2.94199708e-04, 9.27531160e-04, 6.88035507e-04,\n",
              "        2.34546300e-04, 5.73268684e-04, 5.79080312e-04, 3.54421645e-04,\n",
              "        1.33757701e-03, 6.19421655e-04, 2.81299901e-04, 4.00745746e-04,\n",
              "        6.54194155e-04, 4.26296581e-04, 1.79400295e-03, 2.87216099e-04,\n",
              "        4.19474352e-04, 3.81268852e-04, 4.56605077e-04, 1.40187491e-04,\n",
              "        2.28942343e-04, 6.93948648e-04, 4.06640233e-04, 5.94166631e-04,\n",
              "        3.82763130e-04, 4.28986794e-04, 5.74074569e-04, 4.24769445e-04,\n",
              "        1.23983948e-03, 5.08463709e-04, 5.00647293e-04, 3.32335389e-04,\n",
              "        1.69994170e-03, 9.02646207e-05, 2.93222314e-04, 8.47460353e-04,\n",
              "        8.38525593e-04, 5.79990563e-04, 3.22104373e-04, 4.24311555e-04,\n",
              "        2.83275935e-04, 3.38204496e-04, 2.48832250e-04, 1.48912703e-04,\n",
              "        1.06410985e-03, 4.41034586e-04, 2.91047152e-04, 5.28005068e-04,\n",
              "        4.36624221e-04, 5.24454226e-04, 3.74817842e-04, 2.33778451e-03,\n",
              "        3.35793360e-04, 1.33161142e-03, 4.18331212e-04, 2.72261736e-04,\n",
              "        2.32434031e-04, 5.39469358e-04, 9.01957392e-05, 1.35523020e-04,\n",
              "        1.13316200e-04, 1.94691122e-03, 1.51945569e-04, 2.96584272e-04,\n",
              "        2.06205688e-04, 5.88160474e-04, 1.00527919e-04, 2.69515585e-04,\n",
              "        1.41285372e-03, 1.53835886e-03, 2.05099839e-03, 8.96401354e-04,\n",
              "        6.54195959e-04, 5.31074731e-03, 1.30620960e-04, 5.05929114e-04,\n",
              "        1.49943028e-03, 3.22806439e-03, 3.66529799e-04, 6.13742624e-04,\n",
              "        2.66282557e-04, 1.23839104e-03, 4.10777866e-04, 1.79693176e-04,\n",
              "        8.02482828e-04, 4.02926817e-04, 2.68311909e-04, 3.21657420e-03,\n",
              "        2.94377125e-04, 1.01308320e-02, 1.38969056e-03, 5.20837086e-04,\n",
              "        4.62782424e-04, 3.02895962e-04, 1.49737741e-03, 5.13669220e-04,\n",
              "        1.96074820e-04, 2.01787989e-04, 2.12896126e-03, 5.30933728e-04,\n",
              "        4.50309366e-04, 2.98111991e-04, 8.97014688e-05, 1.10211759e-03,\n",
              "        1.37387411e-04, 2.95626116e-04, 9.12781397e-05, 1.76893969e-04,\n",
              "        1.11757626e-03, 1.39323436e-03, 2.09275546e-04, 1.89914857e-03,\n",
              "        1.19967852e-04, 2.60830886e-04, 5.12191677e-04, 1.23720046e-03,\n",
              "        1.99142116e-04, 4.72757826e-03, 2.41079892e-04, 1.64395780e-04,\n",
              "        1.00913527e-03, 1.40567438e-03, 2.27912399e-03, 4.16829658e-04,\n",
              "        2.68505566e-04, 8.67689494e-04, 2.35997984e-04, 3.90485016e-04,\n",
              "        3.02259985e-04, 1.26113955e-04, 7.45681813e-04, 1.23306981e-03,\n",
              "        5.00055379e-04, 2.69119657e-04, 1.22775149e-03, 3.36947036e-03,\n",
              "        2.99692329e-04, 6.50138420e-04, 7.67043850e-04, 7.96445063e-04,\n",
              "        2.92165391e-03, 3.53237876e-04, 2.73584184e-04, 6.73792209e-04,\n",
              "        3.45598033e-04, 1.18679687e-04, 6.90320216e-04, 9.06703426e-05,\n",
              "        1.31996101e-04, 1.80621054e-02, 2.01589405e-03, 2.75453390e-03,\n",
              "        9.32330149e-04, 6.96589646e-04, 6.01816064e-05, 3.32962576e-04,\n",
              "        9.77812451e-04, 5.39039902e-04, 9.17015190e-04, 3.57063109e-04,\n",
              "        3.79263947e-04, 6.89028748e-05, 3.21083033e-04, 1.40667195e-04,\n",
              "        1.27792649e-03, 2.97751557e-03, 1.46786231e-04, 1.40694843e-03,\n",
              "        2.63419061e-04, 6.73759636e-03, 1.93496933e-04, 3.51150433e-04,\n",
              "        4.96627355e-04, 1.04594968e-04, 1.67853432e-04, 6.78703131e-04,\n",
              "        2.23992916e-04, 3.59002006e-04, 4.55132395e-04, 1.60015724e-03,\n",
              "        5.86529321e-04, 1.20082659e-04, 8.31889734e-03, 1.44534116e-03,\n",
              "        3.11805808e-04, 2.60065630e-04, 9.76762269e-03, 2.11334002e-04,\n",
              "        1.69925595e-04, 1.53623376e-04, 1.59783475e-03, 9.47278459e-04,\n",
              "        6.29615563e-04, 9.85338120e-04, 7.31720706e-04, 1.21112051e-03,\n",
              "        4.03646613e-04, 3.81499471e-04, 1.29916961e-03, 1.40769727e-04,\n",
              "        5.58316940e-04, 1.11595471e-03, 2.11385995e-04, 2.59966939e-04,\n",
              "        4.82012430e-04, 8.83611327e-04, 1.82871125e-04, 2.04996380e-04,\n",
              "        1.33734127e-03, 5.72901743e-04, 8.01188056e-04, 1.02917466e-03,\n",
              "        1.12632220e-03, 1.62945333e-04, 3.33655300e-03, 8.22192000e-04,\n",
              "        1.67155915e-04, 6.09927753e-04, 3.60029022e-04, 6.34634751e-04,\n",
              "        3.62214400e-04, 3.63913365e-04, 5.64847316e-04, 1.32640038e-04,\n",
              "        9.48346162e-04, 2.87078466e-04, 1.32524315e-03, 1.53055968e-04,\n",
              "        3.60485981e-04, 3.00878950e-04, 5.74324338e-04, 5.88634342e-04,\n",
              "        6.16930891e-04, 1.92211242e-04, 9.34294076e-05, 5.56831539e-04,\n",
              "        2.05864766e-04, 6.07203518e-04, 1.17734788e-04, 1.80831482e-03,\n",
              "        2.24607371e-04, 2.82872323e-04, 6.53297582e-04, 4.11346875e-04,\n",
              "        4.75540961e-04, 1.95521815e-03, 1.77904824e-03, 2.97744467e-04,\n",
              "        4.97510249e-04, 2.37700209e-04, 1.07219885e-03, 4.45865467e-03,\n",
              "        1.04017078e-03, 1.98199137e-04, 5.98841021e-03, 1.46607097e-04,\n",
              "        1.93787424e-03, 8.55786842e-04, 1.00055092e-03, 2.22534523e-03,\n",
              "        2.76241102e-03, 2.24373056e-04, 9.45915468e-04, 2.67199735e-04,\n",
              "        2.41754125e-04, 4.00065037e-04, 3.08657443e-04, 1.81136909e-03,\n",
              "        5.61531726e-03, 2.17772496e-04, 7.61255622e-04, 2.47743097e-03,\n",
              "        9.79801640e-04, 4.29581676e-04, 2.63234950e-03, 1.02787348e-03,\n",
              "        1.98560971e-04, 1.24753307e-04, 7.70800747e-03, 6.61829137e-04,\n",
              "        4.54432593e-04, 1.98023021e-03, 5.09122852e-04, 3.31187533e-04,\n",
              "        1.87486957e-03, 1.35381566e-03, 9.12300093e-05, 2.08645230e-04,\n",
              "        9.21774306e-04, 2.71473138e-04, 2.46543234e-04, 2.32087274e-04,\n",
              "        4.84677206e-04, 4.32143628e-04, 2.54441053e-04, 1.47825107e-03,\n",
              "        3.62604074e-02, 2.80414533e-04, 2.11134757e-04, 2.71708850e-04,\n",
              "        4.50652180e-04, 2.35103042e-04, 1.49954704e-03, 1.15205662e-03,\n",
              "        3.81264486e-04, 7.29744323e-04, 2.89379997e-04, 2.47139629e-04,\n",
              "        1.99861199e-04, 5.60757995e-04, 1.09610512e-04, 4.75348934e-04,\n",
              "        2.29391022e-04, 1.10258799e-04, 4.76777001e-04, 1.50179359e-04,\n",
              "        9.83858574e-03, 1.66578160e-04, 3.71362455e-03, 1.45172264e-04,\n",
              "        5.09216799e-04, 1.67665945e-04, 1.59840696e-04, 5.09184552e-04,\n",
              "        5.32972859e-04, 6.41417864e-04, 9.09742317e-04, 1.13390517e-04,\n",
              "        1.96864465e-04, 4.45060106e-03, 4.93551022e-04, 1.62547629e-03,\n",
              "        3.02946661e-04, 2.26034387e-03, 4.86293313e-04, 7.56130379e-04,\n",
              "        2.57885840e-04, 9.65435058e-04, 2.50501558e-04, 2.47290765e-04,\n",
              "        2.17322307e-03, 5.84182562e-04, 7.51153639e-05, 5.20809321e-04,\n",
              "        5.76048624e-04, 1.71935520e-04, 2.52063648e-04, 1.23092346e-03,\n",
              "        1.64320844e-03, 1.35879294e-04, 6.71904418e-04, 6.65172411e-04,\n",
              "        3.71241564e-04, 5.56304469e-04, 9.12200951e-04, 5.65764902e-04,\n",
              "        6.30223774e-04, 1.85108380e-04, 6.89124645e-05, 3.17968661e-04,\n",
              "        2.93960096e-04, 1.88332619e-04, 6.18403545e-04, 4.24184836e-03,\n",
              "        1.42830145e-03, 7.34709320e-04, 1.70530449e-03, 1.38363786e-04,\n",
              "        1.25950098e-03, 1.61747535e-04, 2.98583327e-04, 6.90698449e-04,\n",
              "        8.11161764e-04, 2.60851055e-04, 2.06230069e-03, 2.26531265e-04,\n",
              "        2.98492028e-04, 2.21868395e-03, 5.47798118e-04, 1.79885290e-04,\n",
              "        4.32659755e-04, 2.07315810e-04, 7.10970780e-04, 8.32599180e-04,\n",
              "        1.19017460e-03, 1.27350120e-03, 2.01006653e-04, 4.53183777e-04,\n",
              "        1.52424024e-03, 8.53515696e-04, 1.50234657e-04, 3.60406906e-04,\n",
              "        1.95931148e-04, 3.38641170e-04, 3.60406906e-04, 6.59601472e-04,\n",
              "        1.74226239e-03, 1.30631763e-03, 1.40826989e-04, 4.29262203e-04,\n",
              "        2.18128975e-04, 1.64824352e-03, 5.88773342e-04, 5.79247077e-04,\n",
              "        8.40717112e-05, 1.59519480e-03, 8.46409879e-04, 4.01240017e-04,\n",
              "        3.47818161e-04, 1.45263795e-04, 7.02647449e-05, 2.58890912e-03,\n",
              "        1.56247790e-03, 1.20712107e-03, 8.59452921e-05, 4.68803948e-04,\n",
              "        3.71839327e-04, 4.01253375e-04, 3.89470981e-04, 6.69858477e-04,\n",
              "        3.60641046e-04, 1.20511954e-03, 6.47025881e-04, 4.05012979e-04,\n",
              "        4.50569467e-04, 6.25444285e-04, 1.79649738e-04, 2.32978316e-04,\n",
              "        1.11353062e-02, 1.95855304e-04, 4.94400214e-04, 2.74757156e-04,\n",
              "        6.14786870e-04, 1.66830709e-04, 3.79087240e-03, 1.02976523e-03,\n",
              "        7.81653624e-04, 7.36803573e-04, 3.12300894e-04, 2.00130613e-04,\n",
              "        6.38590718e-05, 3.43607622e-03, 1.28241372e-04, 5.86936425e-04,\n",
              "        4.89126542e-04, 1.67392805e-04, 3.37694510e-04, 5.09806210e-04,\n",
              "        8.14854517e-04, 4.73249878e-04, 3.45958455e-04, 2.38862494e-03,\n",
              "        2.94445781e-04, 1.68515049e-04, 2.29762692e-04, 1.30901593e-04,\n",
              "        8.41174216e-04, 3.74852010e-04, 4.20848955e-04, 2.75031867e-04,\n",
              "        2.83808738e-04, 3.49779904e-04, 1.27275928e-03, 2.64185248e-04,\n",
              "        1.23275886e-03, 8.95299483e-04, 4.45456535e-04, 7.28859624e-04,\n",
              "        9.62698177e-05, 4.51806729e-04, 4.18059202e-03, 6.53015741e-04,\n",
              "        1.62981785e-04, 4.56407870e-04, 2.27007724e-04, 7.93328625e-04,\n",
              "        1.94466309e-04, 3.35804856e-04, 5.47734741e-03, 8.66297865e-04,\n",
              "        1.03910558e-03, 4.75209323e-04, 1.15665272e-04, 2.32179358e-04,\n",
              "        7.26168044e-04, 2.22934395e-04, 7.71972467e-04, 2.51243589e-04,\n",
              "        8.26185627e-04, 8.69342242e-04, 7.65898585e-05, 2.46095029e-03,\n",
              "        3.32320167e-04, 3.22276755e-04, 1.41040699e-04, 1.65866164e-04,\n",
              "        3.48590547e-04, 1.16643151e-02, 9.86859435e-04, 1.51393106e-04,\n",
              "        8.35810322e-04, 6.06808695e-04, 1.22707325e-03, 1.03728566e-02,\n",
              "        2.69664940e-03, 1.96972076e-04, 1.96731463e-03, 9.06118599e-04,\n",
              "        6.69026485e-05, 4.41589276e-04, 3.59053374e-04, 5.79563144e-04,\n",
              "        1.14071168e-04, 8.30990728e-04, 4.07442625e-04, 2.10919825e-04,\n",
              "        1.39772994e-04, 1.21686011e-04, 7.28715793e-04, 3.70579364e-04,\n",
              "        1.30003798e-04, 1.83624259e-04, 3.65745596e-04, 2.92122888e-04,\n",
              "        2.41510640e-03, 4.96158260e-04, 7.82241332e-05, 9.71131900e-04,\n",
              "        1.08022674e-03, 1.34704402e-04, 3.50535556e-04, 2.10778974e-03,\n",
              "        1.86123943e-04, 1.29170856e-03, 2.96040002e-04, 2.07760627e-03,\n",
              "        2.92182231e-04, 7.04918348e-04, 2.44428375e-04, 1.04771323e-04,\n",
              "        4.37432376e-04, 8.24722229e-04, 1.56089824e-04, 2.04521857e-04,\n",
              "        1.16213539e-03, 1.15257897e-03, 3.19607032e-04, 8.81424407e-04,\n",
              "        1.70204567e-03, 3.11662356e-04, 1.13621040e-03, 6.45838270e-04,\n",
              "        7.21852586e-04, 1.79127604e-03, 5.31213300e-04, 5.51379984e-04,\n",
              "        2.57951277e-03, 7.75464298e-03, 1.63758558e-03, 7.03928701e-04,\n",
              "        8.23203195e-03, 2.76716106e-04, 1.16409916e-04, 6.53488532e-05,\n",
              "        9.45508800e-05, 5.23340830e-04, 1.94040113e-04, 1.16855670e-04,\n",
              "        3.06701809e-02, 1.05277024e-04, 3.19024344e-04, 1.58863096e-03,\n",
              "        1.01115741e-03, 1.44076720e-03, 2.03882722e-04, 2.92202720e-04,\n",
              "        5.34370192e-04, 1.73821114e-04, 1.78977862e-04, 1.30422850e-04,\n",
              "        7.34773057e-04, 7.28963234e-04, 1.91159575e-04, 1.59305637e-04,\n",
              "        1.79500756e-04, 2.10296465e-04, 4.32819652e-04, 4.43114695e-04,\n",
              "        1.78028029e-04, 1.90104038e-04, 7.04820210e-04, 6.16681718e-05,\n",
              "        8.86149573e-05, 7.60292824e-05, 1.73689390e-04, 1.98759342e-04,\n",
              "        2.00687544e-04, 1.22502481e-03, 1.45234505e-03, 4.96289553e-03,\n",
              "        1.13438198e-03, 7.56983529e-04, 9.70401976e-04, 2.41805543e-03,\n",
              "        3.84840125e-04, 5.18736313e-04, 3.08926613e-03, 2.47812626e-04,\n",
              "        6.31396833e-04, 6.76662952e-04, 1.23748463e-03, 2.54111481e-04,\n",
              "        6.84638042e-04, 3.42418381e-04, 3.67048924e-04, 7.30125990e-04,\n",
              "        7.63396034e-04, 2.16770452e-04, 6.60339091e-03, 2.01194431e-03,\n",
              "        4.90752188e-03, 2.69232638e-04, 6.73868053e-04, 9.58960876e-03,\n",
              "        3.59039666e-04, 2.38615830e-04, 1.53742044e-03, 6.56300632e-04,\n",
              "        9.58645105e-05, 1.05939027e-04, 4.36319970e-03, 8.58896878e-04,\n",
              "        4.13112435e-03, 7.83227908e-04, 1.67972106e-03, 4.18622541e-04,\n",
              "        9.33391973e-04, 2.07712897e-03, 7.32684042e-04, 3.91987705e-04,\n",
              "        7.67879013e-04, 3.61101207e-04, 9.03418055e-04, 1.88635589e-04,\n",
              "        3.94188799e-04, 2.60711153e-04, 2.04303535e-04, 2.02282201e-04,\n",
              "        9.22847030e-05, 1.19760829e-04, 3.36570636e-04, 7.58566952e-04]],\n",
              "      dtype=float32)"
            ]
          },
          "metadata": {},
          "execution_count": 80
        }
      ],
      "source": [
        "# Code from the CNN lecture might come in handy here! \n",
        "\n",
        "resnet_model = ResNet50V2(weights='imagenet')\n",
        "x = resize(image_list[0], (224 , 224),\n",
        "                       anti_aliasing=True)\n",
        "x = np.expand_dims(x, axis=0)\n",
        "x = preprocess_input(x)\n",
        "resnet_model.predict(x)"
      ]
    },
    {
      "cell_type": "code",
      "execution_count": null,
      "metadata": {
        "deletable": false,
        "editable": false,
        "nbgrader": {
          "cell_type": "code",
          "checksum": "dc052ce43e9c6139f9049a72613c53cb",
          "grade": true,
          "grade_id": "cell-6e0982cb9f7775ef",
          "locked": true,
          "points": 1,
          "schema_version": 3,
          "solution": false,
          "task": false
        },
        "id": "ngmGkNtqXg-p"
      },
      "outputs": [],
      "source": [
        "# Visible test\n",
        "assert resnet_model.get_config()[\"name\"] == \"resnet50v2\", \"Did you instantiate the resnet model?\""
      ]
    },
    {
      "cell_type": "markdown",
      "metadata": {
        "deletable": false,
        "editable": false,
        "id": "XEuhvSu7O5Rf",
        "nbgrader": {
          "cell_type": "markdown",
          "checksum": "07da5c698aa6b4bfc985abf74be530d0",
          "grade": false,
          "grade_id": "cell-98f795ea1478ba74",
          "locked": true,
          "points": 0,
          "schema_version": 3,
          "solution": false,
          "task": true
        }
      },
      "source": [
        "<a id=\"p3\"></a>\n",
        "## Part 3 - Autoencoders\n",
        "\n",
        "**Describe a use case for an autoencoder given that an autoencoder tries to predict its own input.**"
      ]
    },
    {
      "cell_type": "markdown",
      "metadata": {
        "deletable": false,
        "nbgrader": {
          "cell_type": "markdown",
          "checksum": "b9def07acfd8d9a0bb2fb9b3a9d20170",
          "grade": true,
          "grade_id": "cell-1ec34a8c8251db51",
          "locked": false,
          "points": 0,
          "schema_version": 3,
          "solution": true,
          "task": false
        },
        "id": "q4vTsKaVXg-p"
      },
      "source": [
        "The autoencoder can learn to deblur a new image after being trained to predict the unblurred versions of its input."
      ]
    },
    {
      "cell_type": "markdown",
      "metadata": {
        "id": "626zYgjkO7Vq"
      },
      "source": [
        "<a id=\"p4\"></a>\n",
        "## Part 4 - More..."
      ]
    },
    {
      "cell_type": "markdown",
      "metadata": {
        "deletable": false,
        "editable": false,
        "id": "__lDWfcUO8oo",
        "nbgrader": {
          "cell_type": "markdown",
          "checksum": "061b43713725ca6955ee708b4495d0df",
          "grade": false,
          "grade_id": "cell-75a20bfb51f81e3b",
          "locked": true,
          "points": 0,
          "schema_version": 3,
          "solution": false,
          "task": true
        }
      },
      "source": [
        "**Answer the following questions, with a target audience of a fellow Data Scientist:**\n",
        "\n",
        "- What do you consider your strongest area as a Data Scientist?\n",
        "- What area of Data Science would you most like to learn more about, and why?\n",
        "- Where do you think Data Science will be in 5 years?\n",
        "\n",
        "A few sentences per answer is fine - only elaborate if time allows."
      ]
    },
    {
      "cell_type": "markdown",
      "metadata": {
        "deletable": false,
        "nbgrader": {
          "cell_type": "markdown",
          "checksum": "7e4b53bf4d823ee49c9fcb0e91c0dae3",
          "grade": true,
          "grade_id": "cell-7133ec302afe51d8",
          "locked": false,
          "points": 0,
          "schema_version": 3,
          "solution": true,
          "task": false
        },
        "id": "tM3Mut_bXg-p"
      },
      "source": [
        "\n",
        "\n",
        "*   Great with the ability to apply techniques into practice and products\n",
        "*   I would like to learn more about deep learning. I understand that many unsolved problems will require deep learning.\n",
        "*   Data Science will touch every industry and has been around for longer than people think. Now data science is just able to make decisions faster than ever.\n",
        "\n"
      ]
    },
    {
      "cell_type": "markdown",
      "metadata": {
        "id": "_Hoqe3mM_Mtc"
      },
      "source": [
        "## Congratulations! \n",
        "\n",
        "Thank you for your hard work, and [congratulations](https://giphy.com/embed/26xivLqkv86uJzqWk)!!! You've learned a lot, and you should proudly call yourself a Data Scientist.\n"
      ]
    }
  ],
  "metadata": {
    "accelerator": "GPU",
    "colab": {
      "collapsed_sections": [],
      "name": "SU_LS_DS_Unit_4_Sprint_Challenge_3_AG.ipynb",
      "provenance": [],
      "include_colab_link": true
    },
    "kernel_info": {
      "name": "u4-s3-dnn"
    },
    "kernelspec": {
      "display_name": "Python 3",
      "language": "python",
      "name": "python3"
    },
    "language_info": {
      "codemirror_mode": {
        "name": "ipython",
        "version": 3
      },
      "file_extension": ".py",
      "mimetype": "text/x-python",
      "name": "python",
      "nbconvert_exporter": "python",
      "pygments_lexer": "ipython3",
      "version": "3.8.5"
    },
    "nteract": {
      "version": "0.22.4"
    }
  },
  "nbformat": 4,
  "nbformat_minor": 0
}